{
 "cells": [
  {
   "cell_type": "code",
   "execution_count": 11,
   "metadata": {},
   "outputs": [],
   "source": [
    "import matplotlib.pyplot as plt\n",
    "%matplotlib inline\n",
    "import numpy as np\n"
   ]
  },
  {
   "cell_type": "markdown",
   "metadata": {},
   "source": [
    "# Generation of images"
   ]
  },
  {
   "cell_type": "markdown",
   "metadata": {},
   "source": [
    "For the generation of images, we simply use the code that was given with the subject. Every image size will be 72."
   ]
  },
  {
   "cell_type": "code",
   "execution_count": 12,
   "metadata": {},
   "outputs": [],
   "source": [
    "IMAGE_SIZE = 72\n",
    "def generate_a_drawing(figsize, U, V, noise=0.0):\n",
    "    fig = plt.figure(figsize=(figsize,figsize))\n",
    "    ax = plt.subplot(111)\n",
    "    plt.axis('Off')\n",
    "    ax.set_xlim(0,figsize)\n",
    "    ax.set_ylim(0,figsize)\n",
    "    ax.fill(U, V, \"k\")\n",
    "    fig.canvas.draw()\n",
    "    imdata = np.frombuffer(fig.canvas.tostring_rgb(), dtype=np.uint8)[::3].astype(np.float32)\n",
    "    imdata = imdata + noise * np.random.random(imdata.size)\n",
    "    plt.close(fig)\n",
    "    return imdata"
   ]
  },
  {
   "cell_type": "code",
   "execution_count": 13,
   "metadata": {},
   "outputs": [],
   "source": [
    "def generate_a_rectangle(noise=0.0, free_location=False):\n",
    "    figsize = 1.0    \n",
    "    U = np.zeros(4)\n",
    "    V = np.zeros(4)\n",
    "    if free_location:\n",
    "        corners = np.random.random(4)\n",
    "        top = max(corners[0], corners[1])\n",
    "        bottom = min(corners[0], corners[1])\n",
    "        left = min(corners[2], corners[3])\n",
    "        right = max(corners[2], corners[3])\n",
    "    else:\n",
    "        side = (0.3 + 0.7 * np.random.random()) * figsize\n",
    "        top = figsize/2 + side/2\n",
    "        bottom = figsize/2 - side/2\n",
    "        left = bottom\n",
    "        right = top\n",
    "    U[0] = U[1] = top\n",
    "    U[2] = U[3] = bottom\n",
    "    V[0] = V[3] = left\n",
    "    V[1] = V[2] = right\n",
    "    return generate_a_drawing(figsize, U, V, noise)\n"
   ]
  },
  {
   "cell_type": "code",
   "execution_count": 14,
   "metadata": {},
   "outputs": [],
   "source": [
    "def generate_a_disk(noise=0.0, free_location=False):\n",
    "    figsize = 1.0\n",
    "    if free_location:\n",
    "        center = np.random.random(2)\n",
    "    else:\n",
    "        center = (figsize/2, figsize/2)\n",
    "    radius = (0.3 + 0.7 * np.random.random()) * figsize/2\n",
    "    N = 50\n",
    "    U = np.zeros(N)\n",
    "    V = np.zeros(N)\n",
    "    i = 0\n",
    "    for t in np.linspace(0, 2*np.pi, N):\n",
    "        U[i] = center[0] + np.cos(t) * radius\n",
    "        V[i] = center[1] + np.sin(t) * radius\n",
    "        i = i + 1\n",
    "    return generate_a_drawing(figsize, U, V, noise)\n"
   ]
  },
  {
   "cell_type": "code",
   "execution_count": 15,
   "metadata": {},
   "outputs": [],
   "source": [
    "def generate_a_triangle(noise=0.0, free_location=False):\n",
    "    figsize = 1.0\n",
    "    if free_location:\n",
    "        U = np.random.random(3)\n",
    "        V = np.random.random(3)\n",
    "    else:\n",
    "        size = (0.3 + 0.7 * np.random.random())*figsize/2\n",
    "        middle = figsize/2\n",
    "        U = (middle, middle+size, middle-size)\n",
    "        V = (middle+size, middle-size, middle-size)\n",
    "    imdata = generate_a_drawing(figsize, U, V, noise)\n",
    "    return [imdata, [U[0], V[0], U[1], V[1], U[2], V[2]]]"
   ]
  },
  {
   "cell_type": "markdown",
   "metadata": {},
   "source": [
    "Let's visualize a rectangle, a disk and a triangle"
   ]
  },
  {
   "cell_type": "code",
   "execution_count": 16,
   "metadata": {},
   "outputs": [
    {
     "data": {
      "text/plain": [
       "<matplotlib.image.AxesImage at 0x24fcf123ef0>"
      ]
     },
     "execution_count": 16,
     "metadata": {},
     "output_type": "execute_result"
    },
    {
     "data": {
      "image/png": "[encoded data removed]",
      "text/plain": [
       "<Figure size 432x288 with 1 Axes>"
      ]
     },
     "metadata": {
      "needs_background": "light"
     },
     "output_type": "display_data"
    }
   ],
   "source": [
    "\n",
    "im = generate_a_rectangle(10, True)\n",
    "plt.imshow(im.reshape(IMAGE_SIZE,IMAGE_SIZE), cmap='gray')"
   ]
  },
  {
   "cell_type": "code",
   "execution_count": 17,
   "metadata": {},
   "outputs": [
    {
     "data": {
      "text/plain": [
       "<matplotlib.image.AxesImage at 0x24fcf1dffd0>"
      ]
     },
     "execution_count": 17,
     "metadata": {},
     "output_type": "execute_result"
    },
    {
     "data": {
      "image/png": "[encoded data removed]",
      "text/plain": [
       "<Figure size 432x288 with 1 Axes>"
      ]
     },
     "metadata": {
      "needs_background": "light"
     },
     "output_type": "display_data"
    }
   ],
   "source": [
    "im = generate_a_disk(10)\n",
    "plt.imshow(im.reshape(IMAGE_SIZE,IMAGE_SIZE), cmap='gray')"
   ]
  },
  {
   "cell_type": "markdown",
   "metadata": {},
   "source": [
    "Only with generate a triangle we will get the specific position of the triangle which will be useful afterwards for the last part. "
   ]
  },
  {
   "cell_type": "code",
   "execution_count": 18,
   "metadata": {},
   "outputs": [
    {
     "name": "stdout",
     "output_type": "stream",
     "text": [
      "[0.5, 0.868139072212696, 0.868139072212696, 0.1318609277873039, 0.1318609277873039, 0.1318609277873039]\n"
     ]
    },
    {
     "data": {
      "image/png": "[encoded data removed]",
      "text/plain": [
       "<Figure size 432x288 with 1 Axes>"
      ]
     },
     "metadata": {
      "needs_background": "light"
     },
     "output_type": "display_data"
    }
   ],
   "source": [
    "[im, v] = generate_a_triangle(20, False)\n",
    "plt.imshow(im.reshape(IMAGE_SIZE,IMAGE_SIZE), cmap='gray')\n",
    "print (v)"
   ]
  },
  {
   "cell_type": "markdown",
   "metadata": {},
   "source": [
    "# Generation of a dataset"
   ]
  },
  {
   "cell_type": "markdown",
   "metadata": {},
   "source": [
    "Again, this code was entirely given in the code with the subject.It generates the training and testing set."
   ]
  },
  {
   "cell_type": "code",
   "execution_count": 19,
   "metadata": {},
   "outputs": [],
   "source": [
    "def generate_dataset_classification(nb_samples, noise=0.0, free_location=False):\n",
    "    # Getting im_size:\n",
    "    im_size = generate_a_rectangle().shape[0]\n",
    "    X = np.zeros([nb_samples,im_size])\n",
    "    Y = np.zeros(nb_samples)\n",
    "    print('Creating data:')\n",
    "    for i in range(nb_samples):\n",
    "        if i % 10 == 0:\n",
    "            print(i)\n",
    "        category = np.random.randint(3)\n",
    "        if category == 0:\n",
    "            X[i] = generate_a_rectangle(noise, free_location)\n",
    "        elif category == 1: \n",
    "            X[i] = generate_a_disk(noise, free_location)\n",
    "        else:\n",
    "            [X[i], V] = generate_a_triangle(noise, free_location)\n",
    "        Y[i] = category\n",
    "    X = (X + noise) / (255 + 2 * noise)\n",
    "    return [X, Y]"
   ]
  },
  {
   "cell_type": "code",
   "execution_count": 20,
   "metadata": {},
   "outputs": [],
   "source": [
    "def generate_test_set_classification():\n",
    "    np.random.seed(42)\n",
    "    [X_test, Y_test] = generate_dataset_classification(300, 20, True)\n",
    "    Y_test = to_categorical(Y_test, 3) \n",
    "    ## retourne une matrice avec chaque ligne qui correspond a un Y, sur chaque ligne Yij=1 si Yi appartient à la classe j\n",
    "    return [X_test, Y_test]"
   ]
  },
  {
   "cell_type": "code",
   "execution_count": 21,
   "metadata": {},
   "outputs": [],
   "source": [
    "# REGRESSION DES TRIANGLES (renvoie le triangle et la position de ses vertices)\n",
    "def generate_dataset_regression(nb_samples, noise=0.0):\n",
    "    # Getting im_size:\n",
    "    im_size = generate_a_triangle()[0].shape[0]\n",
    "    X = np.zeros([nb_samples,im_size])\n",
    "    Y = np.zeros([nb_samples, 6])\n",
    "    print('Creating data:')\n",
    "    for i in range(nb_samples):\n",
    "        if i % 10 == 0:\n",
    "            print(i)\n",
    "        [X[i], Y[i]] = generate_a_triangle(noise, True)\n",
    "    X = (X + noise) / (255 + 2 * noise)\n",
    "    return [X, Y]\n",
    "\n"
   ]
  },
  {
   "cell_type": "code",
   "execution_count": 22,
   "metadata": {},
   "outputs": [],
   "source": [
    "import matplotlib.patches as patches\n",
    "##RENVOIE SUR UNE MEME IMAGE LE TRIANGLE ET LE TRIANGLE FAIT AVEC CONTOURS\n",
    "def visualize_prediction(x, y):\n",
    "    fig, ax = plt.subplots(figsize=(5, 5))\n",
    "    I = x.reshape((IMAGE_SIZE,IMAGE_SIZE))\n",
    "    ax.imshow(I, extent=[-0.15,1.15,-0.15,1.15],cmap='gray')\n",
    "    ax.set_xlim([0,1])\n",
    "    ax.set_ylim([0,1])\n",
    "\n",
    "    xy = y.reshape(3,2)\n",
    "    tri = patches.Polygon(xy, closed=True, fill = False, edgecolor = 'r', linewidth = 5, alpha = 0.5)\n",
    "    ax.add_patch(tri)\n",
    "    plt.show()\n",
    " "
   ]
  },
  {
   "cell_type": "code",
   "execution_count": 23,
   "metadata": {},
   "outputs": [
    {
     "name": "stdout",
     "output_type": "stream",
     "text": [
      "Creating data:\n",
      "0\n",
      "10\n",
      "20\n",
      "30\n",
      "40\n",
      "50\n",
      "60\n",
      "70\n",
      "80\n",
      "90\n",
      "100\n",
      "110\n",
      "120\n",
      "130\n",
      "140\n",
      "150\n",
      "160\n",
      "170\n",
      "180\n",
      "190\n",
      "200\n",
      "210\n",
      "220\n",
      "230\n",
      "240\n",
      "250\n",
      "260\n",
      "270\n",
      "280\n",
      "290\n",
      "[[0.94133439 0.93818117 0.67661723 0.27556678 0.36340393 0.33217252]\n",
      " [0.49350036 0.81401674 0.17839825 0.77686033 0.51306942 0.78858177]\n",
      " [0.23325432 0.15415605 0.5149824  0.45317341 0.32182751 0.87390724]\n",
      " ...\n",
      " [0.90236089 0.08107216 0.0619128  0.90561447 0.3103926  0.44943384]\n",
      " [0.02978994 0.76471819 0.18268838 0.11404042 0.36227032 0.29758231]\n",
      " [0.4368798  0.9453302  0.49367468 0.12558218 0.43904587 0.99037645]]\n"
     ]
    }
   ],
   "source": [
    "def generate_test_set_regression():\n",
    "    np.random.seed(42)\n",
    "    [X_test, Y_test] = generate_dataset_regression(300, 20)\n",
    "    return [X_test, Y_test]\n",
    "\n",
    "[X_test,Y_test]=generate_test_set_regression()\n",
    "print(Y_test)"
   ]
  },
  {
   "cell_type": "code",
   "execution_count": 37,
   "metadata": {},
   "outputs": [
    {
     "name": "stdout",
     "output_type": "stream",
     "text": [
      "Creating data:\n",
      "0\n",
      "10\n",
      "20\n",
      "30\n",
      "40\n",
      "50\n",
      "60\n",
      "70\n",
      "80\n",
      "90\n",
      "100\n",
      "110\n",
      "120\n",
      "130\n",
      "140\n",
      "150\n",
      "160\n",
      "170\n",
      "180\n",
      "190\n",
      "200\n",
      "210\n",
      "220\n",
      "230\n",
      "240\n",
      "250\n",
      "260\n",
      "270\n",
      "280\n",
      "290\n"
     ]
    }
   ],
   "source": [
    "##Training set generation and formating into the desired input for the following model\n",
    "from keras.utils.np_utils import to_categorical as to_categorical\n",
    "[X_train, Y_train] = generate_dataset_classification(300, 20)\n"
   ]
  },
  {
   "cell_type": "markdown",
   "metadata": {},
   "source": [
    "Now that we have a training a a testing set, we can do deep learning model in order to predict the classification in the 3 categories (circle, triangle, rectangle). The first will use the SGD Optimizer. We are using here a very simple model:\n",
    "first we have to reshape the data (X, and Y into the to_categorical shape). The in the model we add a dense of output shape 3 (since we need 3 categories), and the input will be the shape of X. We complile it and then we fit it to our training set. We use a learning rate of 0.01 of the SGD optimizer, to have pretty small steps.As suggested we use specific functions of activation (softmax), and a loss measure (categorical crossentropy). In order to see the evolution of our prediction with the epoch, we measure accuracy each time. We can see here that it converges to 64% which is a good value but we will hope to get better with the Adam Optimizer, a better optimizer. "
   ]
  },
  {
   "cell_type": "code",
   "execution_count": 38,
   "metadata": {},
   "outputs": [
    {
     "name": "stdout",
     "output_type": "stream",
     "text": [
      "Epoch 1/10\n",
      "300/300 [==============================] - 0s 898us/step - loss: 6.5815 - acc: 0.3400\n",
      "Epoch 2/10\n",
      "300/300 [==============================] - 0s 130us/step - loss: 8.1531 - acc: 0.3367\n",
      "Epoch 3/10\n",
      "300/300 [==============================] - 0s 100us/step - loss: 6.4033 - acc: 0.5233\n",
      "Epoch 4/10\n",
      "300/300 [==============================] - 0s 100us/step - loss: 5.7998 - acc: 0.5967\n",
      "Epoch 5/10\n",
      "300/300 [==============================] - 0s 100us/step - loss: 6.2300 - acc: 0.5067\n",
      "Epoch 6/10\n",
      "300/300 [==============================] - 0s 103us/step - loss: 5.8611 - acc: 0.5900\n",
      "Epoch 7/10\n",
      "300/300 [==============================] - 0s 120us/step - loss: 5.6679 - acc: 0.6433\n",
      "Epoch 8/10\n",
      "300/300 [==============================] - 0s 106us/step - loss: 5.7252 - acc: 0.6300\n",
      "Epoch 9/10\n",
      "300/300 [==============================] - 0s 120us/step - loss: 5.6623 - acc: 0.6433\n",
      "Epoch 10/10\n",
      "300/300 [==============================] - 0s 116us/step - loss: 5.6606 - acc: 0.6433\n"
     ]
    },
    {
     "data": {
      "text/plain": [
       "<keras.callbacks.History at 0x24fcfb87a20>"
      ]
     },
     "execution_count": 38,
     "metadata": {},
     "output_type": "execute_result"
    }
   ],
   "source": [
    "#Model generation : SGD optimization\n",
    "\n",
    "from keras.models import Sequential\n",
    "from keras.layers import Conv2D, MaxPooling2D\n",
    "from keras.layers import Dropout\n",
    "from keras.layers import Flatten\n",
    "from keras.layers import Dense\n",
    "from keras.optimizers import SGD\n",
    "\n",
    "model = Sequential()\n",
    "shape_X=X_train.shape[1]\n",
    "Y_train_c=to_categorical(Y_train)\n",
    "model.add(Dense(3,activation='softmax',input_shape=(shape_X,)))\n",
    "sgd=SGD(lr=0.01)\n",
    "model.compile(optimizer=sgd, loss='categorical_crossentropy',metrics=['accuracy'])\n",
    "model.fit(X_train,Y_train_c,batch_size=32,epochs=10,verbose=1)\n"
   ]
  },
  {
   "cell_type": "markdown",
   "metadata": {},
   "source": [
    "We test here our model with a circle in order to see in which category it is classified. Here it gives a wrong classification (not that often but I decided to show it to compare it to the next optimizer). "
   ]
  },
  {
   "cell_type": "code",
   "execution_count": 48,
   "metadata": {},
   "outputs": [
    {
     "data": {
      "text/plain": [
       "array([[1., 0., 0.]], dtype=float32)"
      ]
     },
     "execution_count": 48,
     "metadata": {},
     "output_type": "execute_result"
    }
   ],
   "source": [
    "#testing the model on a circle\n",
    "X_test = generate_a_disk()\n",
    "X_test = X_test.reshape(1, X_test.shape[0])\n",
    "model.predict(X_test)"
   ]
  },
  {
   "cell_type": "markdown",
   "metadata": {},
   "source": [
    "We adapt here our code in order to test the Adam Optimizer. The model stays the same otherwise. We can see that this model is far better since the accuracy converges to 98%. "
   ]
  },
  {
   "cell_type": "code",
   "execution_count": 49,
   "metadata": {},
   "outputs": [
    {
     "name": "stdout",
     "output_type": "stream",
     "text": [
      "Epoch 1/10\n",
      "300/300 [==============================] - 0s 967us/step - loss: 1.6442 - acc: 0.4567\n",
      "Epoch 2/10\n",
      "300/300 [==============================] - 0s 96us/step - loss: 0.9588 - acc: 0.5900\n",
      "Epoch 3/10\n",
      "300/300 [==============================] - 0s 120us/step - loss: 0.5625 - acc: 0.7700\n",
      "Epoch 4/10\n",
      "300/300 [==============================] - 0s 96us/step - loss: 0.4209 - acc: 0.8200\n",
      "Epoch 5/10\n",
      "300/300 [==============================] - 0s 126us/step - loss: 0.4239 - acc: 0.8000\n",
      "Epoch 6/10\n",
      "300/300 [==============================] - 0s 100us/step - loss: 0.3844 - acc: 0.7967\n",
      "Epoch 7/10\n",
      "300/300 [==============================] - 0s 103us/step - loss: 0.3010 - acc: 0.8433\n",
      "Epoch 8/10\n",
      "300/300 [==============================] - 0s 103us/step - loss: 0.2312 - acc: 0.9233\n",
      "Epoch 9/10\n",
      "300/300 [==============================] - 0s 100us/step - loss: 0.1965 - acc: 0.9767\n",
      "Epoch 10/10\n",
      "300/300 [==============================] - 0s 136us/step - loss: 0.1694 - acc: 0.9867\n"
     ]
    },
    {
     "data": {
      "text/plain": [
       "<keras.callbacks.History at 0x24fd00a1518>"
      ]
     },
     "execution_count": 49,
     "metadata": {},
     "output_type": "execute_result"
    }
   ],
   "source": [
    "#Model generation : Adam optimization\n",
    "\n",
    "from keras.models import Sequential\n",
    "from keras.layers import Conv2D, MaxPooling2D\n",
    "from keras.layers import Dropout\n",
    "from keras.layers import Flatten\n",
    "from keras.layers import Dense\n",
    "from keras.optimizers import adam\n",
    "\n",
    "model = Sequential()\n",
    "shape_X=X_train.shape[1]\n",
    "Y_train_c=to_categorical(Y_train)\n",
    "model.add(Dense(3,activation='softmax',input_shape=(shape_X,)))\n",
    "adam_o=adam(lr=0.001)\n",
    "model.compile(optimizer=adam_o, loss='categorical_crossentropy',metrics=['accuracy'])\n",
    "model.fit(X_train,Y_train_c,batch_size=32,epochs=10)"
   ]
  },
  {
   "cell_type": "markdown",
   "metadata": {},
   "source": [
    "We test our model on a disk again. This time, by trying this code many times, we can witness less errors than with SGD optimizer."
   ]
  },
  {
   "cell_type": "code",
   "execution_count": 50,
   "metadata": {},
   "outputs": [
    {
     "data": {
      "text/plain": [
       "array([[0., 1., 0.]], dtype=float32)"
      ]
     },
     "execution_count": 50,
     "metadata": {},
     "output_type": "execute_result"
    }
   ],
   "source": [
    "#testing the model\n",
    "X_test = generate_a_disk()\n",
    "X_test = X_test.reshape(1, X_test.shape[0])\n",
    "model.predict(X_test)"
   ]
  },
  {
   "cell_type": "markdown",
   "metadata": {},
   "source": [
    "We check the function, store it input a variable and extract the first part:"
   ]
  },
  {
   "cell_type": "code",
   "execution_count": 51,
   "metadata": {},
   "outputs": [],
   "source": [
    "#weights of our model\n",
    "\n",
    "w=model.get_weights()\n",
    "ima=w[0]\n"
   ]
  },
  {
   "cell_type": "markdown",
   "metadata": {},
   "source": [
    "Then we print the first column:"
   ]
  },
  {
   "cell_type": "code",
   "execution_count": 52,
   "metadata": {},
   "outputs": [
    {
     "data": {
      "text/plain": [
       "<matplotlib.image.AxesImage at 0x24fd058b668>"
      ]
     },
     "execution_count": 52,
     "metadata": {},
     "output_type": "execute_result"
    },
    {
     "data": {
      "image/png": "[encoded data removed]",
      "text/plain": [
       "<Figure size 432x288 with 1 Axes>"
      ]
     },
     "metadata": {
      "needs_background": "light"
     },
     "output_type": "display_data"
    }
   ],
   "source": [
    "# First column \n",
    "ima_1=ima[:,0]\n",
    "plt.imshow(ima_1.reshape(72,72), cmap='gray')"
   ]
  },
  {
   "cell_type": "markdown",
   "metadata": {},
   "source": [
    "The second column:"
   ]
  },
  {
   "cell_type": "code",
   "execution_count": 53,
   "metadata": {},
   "outputs": [
    {
     "data": {
      "text/plain": [
       "<matplotlib.image.AxesImage at 0x24fd0621d30>"
      ]
     },
     "execution_count": 53,
     "metadata": {},
     "output_type": "execute_result"
    },
    {
     "data": {
      "image/png": "[encoded data removed]",
      "text/plain": [
       "<Figure size 432x288 with 1 Axes>"
      ]
     },
     "metadata": {
      "needs_background": "light"
     },
     "output_type": "display_data"
    }
   ],
   "source": [
    "# Second column\n",
    "ima_2=ima[:,1]\n",
    "plt.imshow(ima_2.reshape(72,72), cmap='gray')"
   ]
  },
  {
   "cell_type": "markdown",
   "metadata": {},
   "source": [
    "And lastly the third column:"
   ]
  },
  {
   "cell_type": "code",
   "execution_count": 54,
   "metadata": {},
   "outputs": [
    {
     "data": {
      "text/plain": [
       "<matplotlib.image.AxesImage at 0x24fd06c1278>"
      ]
     },
     "execution_count": 54,
     "metadata": {},
     "output_type": "execute_result"
    },
    {
     "data": {
      "image/png": "[encoded data removed]",
      "text/plain": [
       "<Figure size 432x288 with 1 Axes>"
      ]
     },
     "metadata": {
      "needs_background": "light"
     },
     "output_type": "display_data"
    }
   ],
   "source": [
    "# Third column\n",
    "ima_3=ima[:,2]\n",
    "plt.imshow(ima_3.reshape(72,72), cmap='gray')\n",
    "\n"
   ]
  },
  {
   "cell_type": "markdown",
   "metadata": {},
   "source": [
    "# A more difficult classification problem : Problem n°2, using 2 models for a more complex classification"
   ]
  },
  {
   "cell_type": "markdown",
   "metadata": {},
   "source": [
    "Now we will train a more difficult model. First we generate a new training set."
   ]
  },
  {
   "cell_type": "code",
   "execution_count": 82,
   "metadata": {},
   "outputs": [
    {
     "name": "stdout",
     "output_type": "stream",
     "text": [
      "Creating data:\n",
      "0\n",
      "10\n",
      "20\n",
      "30\n",
      "40\n",
      "50\n",
      "60\n",
      "70\n",
      "80\n",
      "90\n",
      "100\n",
      "110\n",
      "120\n",
      "130\n",
      "140\n",
      "150\n",
      "160\n",
      "170\n",
      "180\n",
      "190\n",
      "200\n",
      "210\n",
      "220\n",
      "230\n",
      "240\n",
      "250\n",
      "260\n",
      "270\n",
      "280\n",
      "290\n"
     ]
    }
   ],
   "source": [
    "[X_train_2, Y_train_2] = generate_dataset_classification(300, 20, True)"
   ]
  },
  {
   "cell_type": "markdown",
   "metadata": {},
   "source": [
    "Our new model will use directly the Adam Optimizer because it was more efficient. Now we use more than one layer : we will first retrain our previous model (linear) in order to compare the new one to this one's results. With the linear model we get an accuracy of 58%."
   ]
  },
  {
   "cell_type": "code",
   "execution_count": 83,
   "metadata": {},
   "outputs": [
    {
     "name": "stdout",
     "output_type": "stream",
     "text": [
      "Epoch 1/10\n",
      "300/300 [==============================] - 1s 3ms/step - loss: 2.7923 - acc: 0.3167\n",
      "Epoch 2/10\n",
      "300/300 [==============================] - 0s 163us/step - loss: 1.7888 - acc: 0.3133\n",
      "Epoch 3/10\n",
      "300/300 [==============================] - 0s 123us/step - loss: 1.2873 - acc: 0.4167\n",
      "Epoch 4/10\n",
      "300/300 [==============================] - 0s 123us/step - loss: 0.9996 - acc: 0.4767\n",
      "Epoch 5/10\n",
      "300/300 [==============================] - 0s 113us/step - loss: 0.9441 - acc: 0.5067\n",
      "Epoch 6/10\n",
      "300/300 [==============================] - 0s 126us/step - loss: 0.9244 - acc: 0.5500\n",
      "Epoch 7/10\n",
      "300/300 [==============================] - 0s 130us/step - loss: 1.0019 - acc: 0.5267\n",
      "Epoch 8/10\n",
      "300/300 [==============================] - 0s 110us/step - loss: 1.0467 - acc: 0.5400\n",
      "Epoch 9/10\n",
      "300/300 [==============================] - 0s 116us/step - loss: 0.9840 - acc: 0.5067\n",
      "Epoch 10/10\n",
      "300/300 [==============================] - 0s 136us/step - loss: 0.8422 - acc: 0.5767\n"
     ]
    },
    {
     "data": {
      "text/plain": [
       "<keras.callbacks.History at 0x24fdd314d68>"
      ]
     },
     "execution_count": 83,
     "metadata": {},
     "output_type": "execute_result"
    }
   ],
   "source": [
    "#New model generation : Adam optimization with Linear model\n",
    "\n",
    "from keras.models import Sequential\n",
    "from keras.layers import Conv2D, MaxPooling2D\n",
    "from keras.layers import Dropout\n",
    "from keras.layers import Flatten\n",
    "from keras.layers import Dense\n",
    "from keras.optimizers import adam\n",
    "\n",
    "model_2 = Sequential()\n",
    "shape_X=X_train_2.shape[1]\n",
    "Y_train_2_c=to_categorical(Y_train_2)\n",
    "model_2.add(Dense(3,activation='softmax',input_shape=(shape_X,)))\n",
    "adam_o=adam(lr=0.001)\n",
    "model_2.compile(optimizer=adam_o, loss='categorical_crossentropy',metrics=['accuracy'])\n",
    "model_2.fit(X_train_2,Y_train_2_c,batch_size=32,epochs=10)\n"
   ]
  },
  {
   "cell_type": "code",
   "execution_count": 84,
   "metadata": {},
   "outputs": [
    {
     "name": "stdout",
     "output_type": "stream",
     "text": [
      "Creating data:\n",
      "0\n",
      "10\n",
      "20\n",
      "30\n",
      "40\n",
      "50\n",
      "60\n",
      "70\n",
      "80\n",
      "90\n",
      "100\n",
      "110\n",
      "120\n",
      "130\n",
      "140\n",
      "150\n",
      "160\n",
      "170\n",
      "180\n",
      "190\n",
      "200\n",
      "210\n",
      "220\n",
      "230\n",
      "240\n",
      "250\n",
      "260\n",
      "270\n",
      "280\n",
      "290\n"
     ]
    }
   ],
   "source": [
    "[X_test_2, Y_test_2] = generate_test_set_classification()\n"
   ]
  },
  {
   "cell_type": "code",
   "execution_count": 85,
   "metadata": {},
   "outputs": [
    {
     "name": "stdout",
     "output_type": "stream",
     "text": [
      "300/300 [==============================] - 0s 984us/step\n"
     ]
    },
    {
     "data": {
      "text/plain": [
       "[0.8916682481765748, 0.5466666666666666]"
      ]
     },
     "execution_count": 85,
     "metadata": {},
     "output_type": "execute_result"
    }
   ],
   "source": [
    "model_2.evaluate(X_test_2, Y_test_2)\n"
   ]
  },
  {
   "cell_type": "markdown",
   "metadata": {},
   "source": [
    "We get an accuracy of 55% which is rather low. We will try to get better  results with a convolutional model."
   ]
  },
  {
   "cell_type": "markdown",
   "metadata": {},
   "source": [
    "Next we create our convulationnal model on the same training set with an Adam Optimization.First we shape the training data, then we build our model.\n",
    "we use the Conv2D layer, a convulational layer. We use 16 filters in the first layer with a kernel size of (5,5), which performed well when we tried it, then a pooling layer to reduce dimensionality. Then we convert the 2D output to an array (the shape of the output) with Flatten before the final softmax classification (as it has provided the best result in our testing session)"
   ]
  },
  {
   "cell_type": "code",
   "execution_count": 154,
   "metadata": {},
   "outputs": [
    {
     "name": "stdout",
     "output_type": "stream",
     "text": [
      "Epoch 1/10\n",
      "300/300 [==============================] - 2s 6ms/step - loss: 1.0733 - acc: 0.4300\n",
      "Epoch 2/10\n",
      "300/300 [==============================] - 1s 3ms/step - loss: 0.8242 - acc: 0.7533\n",
      "Epoch 3/10\n",
      "300/300 [==============================] - 1s 3ms/step - loss: 0.7522 - acc: 0.6567\n",
      "Epoch 4/10\n",
      "300/300 [==============================] - 1s 3ms/step - loss: 0.6409 - acc: 0.7500\n",
      "Epoch 5/10\n",
      "300/300 [==============================] - 1s 3ms/step - loss: 0.5706 - acc: 0.8167\n",
      "Epoch 6/10\n",
      "300/300 [==============================] - 1s 3ms/step - loss: 0.5158 - acc: 0.8367\n",
      "Epoch 7/10\n",
      "300/300 [==============================] - 1s 3ms/step - loss: 0.4655 - acc: 0.8600\n",
      "Epoch 8/10\n",
      "300/300 [==============================] - 1s 4ms/step - loss: 0.5106 - acc: 0.7733\n",
      "Epoch 9/10\n",
      "300/300 [==============================] - 1s 4ms/step - loss: 0.4198 - acc: 0.8433\n",
      "Epoch 10/10\n",
      "300/300 [==============================] - 1s 3ms/step - loss: 0.3927 - acc: 0.8700\n"
     ]
    },
    {
     "data": {
      "text/plain": [
       "<keras.callbacks.History at 0x24fda256320>"
      ]
     },
     "execution_count": 154,
     "metadata": {},
     "output_type": "execute_result"
    }
   ],
   "source": [
    "# Convolutional model on the same training set with Adam optimization\n",
    "from keras.layers import Conv2D, MaxPooling2D, Flatten\n",
    "\n",
    "X_train_2 = X_train_2.reshape(X_train_2.shape[0], 72, 72, 1)\n",
    "model_2_conv=Sequential()\n",
    "model_2_conv.add(Conv2D(16, (5, 5), activation='relu',input_shape=(72, 72, 1)))\n",
    "model_2_conv.add(MaxPooling2D(pool_size=(2,2)))\n",
    "model_2_conv.add(Flatten())\n",
    "model_2_conv.add(Dense(3,activation='softmax'))\n",
    "model_2_conv.compile(optimizer='adam',loss='categorical_crossentropy',metrics=['accuracy'])\n",
    "model_2_conv.fit(X_train_2,Y_train_2_c,batch_size=32,epochs=10)"
   ]
  },
  {
   "cell_type": "markdown",
   "metadata": {},
   "source": [
    "We seem to get better results. Let's evaluate this with the same testing set used for the linear model. "
   ]
  },
  {
   "cell_type": "code",
   "execution_count": 156,
   "metadata": {},
   "outputs": [
    {
     "name": "stdout",
     "output_type": "stream",
     "text": [
      "300/300 [==============================] - 1s 3ms/step\n"
     ]
    },
    {
     "data": {
      "text/plain": [
       "[0.6418332091967265, 0.75]"
      ]
     },
     "execution_count": 156,
     "metadata": {},
     "output_type": "execute_result"
    }
   ],
   "source": [
    "X_test_2 = X_test_2.reshape(X_test_2.shape[0], 72, 72, 1)\n",
    "model_2_conv.evaluate(X_test_2, Y_test_2)"
   ]
  },
  {
   "cell_type": "markdown",
   "metadata": {},
   "source": [
    "Indeed we now get an accuracy of 75% which is better than in the linear model."
   ]
  },
  {
   "cell_type": "markdown",
   "metadata": {},
   "source": [
    "# A regression problem : Problem n°3 using only one model"
   ]
  },
  {
   "cell_type": "markdown",
   "metadata": {},
   "source": [
    "We are now going to tackle a more difficult problem of regression. We first generate a daset triangle and its position of edges. We are trying here to guess the true image of triangle (ie lines that will connect the edges) based on its pixels. "
   ]
  },
  {
   "cell_type": "code",
   "execution_count": 87,
   "metadata": {},
   "outputs": [
    {
     "name": "stdout",
     "output_type": "stream",
     "text": [
      "Creating data:\n",
      "0\n",
      "10\n",
      "20\n",
      "30\n",
      "40\n",
      "50\n",
      "60\n",
      "70\n",
      "80\n",
      "90\n",
      "100\n",
      "110\n",
      "120\n",
      "130\n",
      "140\n",
      "150\n",
      "160\n",
      "170\n",
      "180\n",
      "190\n",
      "200\n",
      "210\n",
      "220\n",
      "230\n",
      "240\n",
      "250\n",
      "260\n",
      "270\n",
      "280\n",
      "290\n"
     ]
    }
   ],
   "source": [
    "[X_train_3, Y_train_3] = generate_dataset_regression(300, 20)\n"
   ]
  },
  {
   "cell_type": "markdown",
   "metadata": {},
   "source": [
    "In this visualization we can see the pixels and the shape we want to regress."
   ]
  },
  {
   "cell_type": "code",
   "execution_count": 88,
   "metadata": {},
   "outputs": [
    {
     "data": {
      "image/png": "[encoded data removed]",
      "text/plain": [
       "<Figure size 360x360 with 1 Axes>"
      ]
     },
     "metadata": {
      "needs_background": "light"
     },
     "output_type": "display_data"
    }
   ],
   "source": [
    "visualize_prediction(X_train_3[0], Y_train_3[0])"
   ]
  },
  {
   "cell_type": "markdown",
   "metadata": {},
   "source": [
    "In order to solve this problem, since the coordinates of the triangle are not normalized, a way to \"normalize\" them will be to convert them in polar coordinate. So we will create functions that will convert from cartesian to polar and reciproquely so that the model we will apply will take as an input the Y_train corresponding to polar coordinates instead of cartesian. "
   ]
  },
  {
   "cell_type": "code",
   "execution_count": 89,
   "metadata": {},
   "outputs": [],
   "source": [
    "# Need to compute polar instead of cartesian coordinates (and cartesian to polar)\n",
    "\n",
    "import numpy as np\n",
    "\n",
    "def cart2pol (y_train):\n",
    "    x_1=y_train[:,0]\n",
    "    y_1=y_train[:,1]\n",
    "    rho_1 = np.sqrt(x_1**2 + y_1**2)\n",
    "    phi_1 = np.arctan2(y_1, x_1)\n",
    "    x_2=y_train[:,2]\n",
    "    y_2=y_train[:,3]\n",
    "    rho_2 = np.sqrt(x_2**2 + y_2**2)\n",
    "    phi_2 = np.arctan2(y_2, x_2)\n",
    "    x_3=y_train[:,4]\n",
    "    y_3=y_train[:,5]\n",
    "    rho_3 = np.sqrt(x_3**2 + y_3**2)\n",
    "    phi_3 = np.arctan2(y_3, x_3)\n",
    "    return(np.c_[rho_1,phi_1,rho_2,phi_2,rho_3,phi_3])\n",
    "\n",
    "def pol2cart(polar_y_train):\n",
    "    rho_1 = polar_y_train[:,0]\n",
    "    phi_1 = polar_y_train[:,1]\n",
    "    x_1 = rho_1 * np.cos(phi_1)\n",
    "    y_1 = rho_1 * np.sin(phi_1)\n",
    "    rho_2 = polar_y_train[:,2]\n",
    "    phi_2 = polar_y_train[:,3]\n",
    "    x_2 = rho_2* np.cos(phi_2)\n",
    "    y_2 = rho_2 * np.sin(phi_2)\n",
    "    rho_3 = polar_y_train[:,4]\n",
    "    phi_3 = polar_y_train[:,5]\n",
    "    x_3 = rho_3 * np.cos(phi_3)\n",
    "    y_3 = rho_3 * np.sin(phi_3)\n",
    "    return(np.c_[x_1,y_1,x_2,y_2,x_3,y_3])"
   ]
  },
  {
   "cell_type": "markdown",
   "metadata": {},
   "source": [
    "Now we will apply to those new inputs (polar coordinates and pixels) our second model with convolutional layers. I just changed the parameter of conv2D (32 filters instead of 16) because I noticed the results were better in this case and used an output of dense equal to 6 since we have two coordinate per edge to guess. "
   ]
  },
  {
   "cell_type": "code",
   "execution_count": 90,
   "metadata": {},
   "outputs": [
    {
     "name": "stdout",
     "output_type": "stream",
     "text": [
      "Epoch 1/10\n",
      "300/300 [==============================] - 2s 7ms/step - loss: 10.4119 - acc: 0.1633\n",
      "Epoch 2/10\n",
      "300/300 [==============================] - 1s 5ms/step - loss: 8.5212 - acc: 0.2033\n",
      "Epoch 3/10\n",
      "300/300 [==============================] - 1s 5ms/step - loss: 8.1969 - acc: 0.3100\n",
      "Epoch 4/10\n",
      "300/300 [==============================] - 2s 5ms/step - loss: 8.1221 - acc: 0.3967\n",
      "Epoch 5/10\n",
      "300/300 [==============================] - 1s 5ms/step - loss: 8.0566 - acc: 0.4233\n",
      "Epoch 6/10\n",
      "300/300 [==============================] - 1s 5ms/step - loss: 8.0124 - acc: 0.4933\n",
      "Epoch 7/10\n",
      "300/300 [==============================] - 2s 6ms/step - loss: 7.9640 - acc: 0.5733\n",
      "Epoch 8/10\n",
      "300/300 [==============================] - 2s 5ms/step - loss: 7.9262 - acc: 0.6133\n",
      "Epoch 9/10\n",
      "300/300 [==============================] - 1s 5ms/step - loss: 7.8912 - acc: 0.6867\n",
      "Epoch 10/10\n",
      "300/300 [==============================] - 2s 5ms/step - loss: 7.8720 - acc: 0.6900\n"
     ]
    },
    {
     "data": {
      "text/plain": [
       "<keras.callbacks.History at 0x24fdb83f3c8>"
      ]
     },
     "execution_count": 90,
     "metadata": {},
     "output_type": "execute_result"
    }
   ],
   "source": [
    "# Regressor model using a convolutionnal model, adam optimizer\n",
    "\n",
    "model_3 = Sequential()\n",
    "X_train_3=X_train_3.reshape(X_train_reg.shape[0], 72, 72, 1)\n",
    "Y_train_3=cart2pol(Y_train_3)\n",
    "model_3.add(Conv2D(32, (5, 5), activation='relu',input_shape=(IMAGE_SIZE,IMAGE_SIZE,1)))\n",
    "model_3.add(MaxPooling2D(pool_size=(2, 2)))\n",
    "model_3.add(Flatten())\n",
    "model_3.add(Dense(6,activation='softmax'))\n",
    "adam_o=adam(lr=0.001)\n",
    "model_3.compile(optimizer=adam_o, loss='categorical_crossentropy',metrics=['accuracy'])\n",
    "model_3.fit(X_train_3,Y_train_3,batch_size=32,epochs=10,verbose=1)"
   ]
  },
  {
   "cell_type": "markdown",
   "metadata": {},
   "source": [
    "We seem to get rather good results (accuaracy of 69%). Now we will test our regression model. "
   ]
  },
  {
   "cell_type": "code",
   "execution_count": 104,
   "metadata": {},
   "outputs": [
    {
     "name": "stdout",
     "output_type": "stream",
     "text": [
      "Creating data:\n",
      "0\n",
      "10\n",
      "20\n",
      "30\n",
      "40\n",
      "50\n",
      "60\n",
      "70\n",
      "80\n",
      "90\n",
      "100\n",
      "110\n",
      "120\n",
      "130\n",
      "140\n",
      "150\n",
      "160\n",
      "170\n",
      "180\n",
      "190\n",
      "200\n",
      "210\n",
      "220\n",
      "230\n",
      "240\n",
      "250\n",
      "260\n",
      "270\n",
      "280\n",
      "290\n"
     ]
    }
   ],
   "source": [
    "# Testing our regression model\n",
    "[X_test_3, Y_test_3] = generate_test_set_regression()\n"
   ]
  },
  {
   "cell_type": "code",
   "execution_count": 105,
   "metadata": {},
   "outputs": [
    {
     "name": "stdout",
     "output_type": "stream",
     "text": [
      "300/300 [==============================] - 1s 2ms/step\n",
      "loss 8.361196873982747 accuracy 0.27000000019868214\n"
     ]
    }
   ],
   "source": [
    "#testing our regression model\n",
    "X_test_3=X_test_3.reshape(X_train_3.shape[0], 72, 72, 1)\n",
    "Y_test_3=cart2pol(Y_test_3)\n",
    "evaluation=model_3.evaluate(X_test_3,Y_test_3)\n",
    "print(\"loss\",evaluation[0],\"accuracy\", evaluation[1])"
   ]
  },
  {
   "cell_type": "markdown",
   "metadata": {},
   "source": [
    "We get an accuracy of 27% which is rather low compared to what we obtained so far. This problem is more complex though since we want to guess 3 coordinates that can take many values (an not only 3 values which will only be 0 or 1). "
   ]
  },
  {
   "cell_type": "markdown",
   "metadata": {},
   "source": [
    "# Image denoising : Problem n°4"
   ]
  },
  {
   "cell_type": "markdown",
   "metadata": {},
   "source": [
    "In this image denoising issue, we will re-compute all the visualization functions previously used but modifying few parameters. For image denoising we want to generate two drawings, one of which will be noisy. the function generate_a_drawing2 now needs to have as an output a list of two lists of pixels corresponding to two images. The classification function also will be modified as it needs now to compute two lists everytime since the output of generate_a_drawing2 is a different size. We have to be careful that in this scenario the first coordinate is the \"real image\" and the second is the \"noisy image\" and we will want to get the real image (Y) from the noisy image (X). This implies that the X_train,Y_train will correspond an output [imdata2,imdata1] "
   ]
  },
  {
   "cell_type": "code",
   "execution_count": 127,
   "metadata": {},
   "outputs": [],
   "source": [
    "def generate_a_drawing2(figsize, U, V, noise=0.0):\n",
    "    fig = plt.figure(figsize=(figsize,figsize))\n",
    "    ax = plt.subplot(111)\n",
    "    plt.axis('Off')\n",
    "    ax.set_xlim(0,figsize)\n",
    "    ax.set_ylim(0,figsize)\n",
    "    ax.fill(U, V, \"k\")\n",
    "    fig.canvas.draw()\n",
    "    imdata = np.frombuffer(fig.canvas.tostring_rgb(), dtype=np.uint8)[::3].astype(np.float32)\n",
    "    imdata2 = imdata + noise * np.random.random(imdata.size)\n",
    "    plt.close(fig)\n",
    "    return [imdata,imdata2]\n",
    "\n",
    "def generate_a_rectangle2(noise=0.0, free_location=False):\n",
    "    figsize = 1.0    \n",
    "    U = np.zeros(4)\n",
    "    V = np.zeros(4)\n",
    "    if free_location:\n",
    "        corners = np.random.random(4)\n",
    "        top = max(corners[0], corners[1])\n",
    "        bottom = min(corners[0], corners[1])\n",
    "        left = min(corners[2], corners[3])\n",
    "        right = max(corners[2], corners[3])\n",
    "    else:\n",
    "        side = (0.3 + 0.7 * np.random.random()) * figsize\n",
    "        top = figsize/2 + side/2\n",
    "        bottom = figsize/2 - side/2\n",
    "        left = bottom\n",
    "        right = top\n",
    "    U[0] = U[1] = top\n",
    "    U[2] = U[3] = bottom\n",
    "    V[0] = V[3] = left\n",
    "    V[1] = V[2] = right\n",
    "    return generate_a_drawing2(figsize, U, V, noise)\n",
    "\n",
    "\n",
    "def generate_a_disk2(noise=0.0, free_location=False):\n",
    "    figsize = 1.0\n",
    "    if free_location:\n",
    "        center = np.random.random(2)\n",
    "    else:\n",
    "        center = (figsize/2, figsize/2)\n",
    "    radius = (0.3 + 0.7 * np.random.random()) * figsize/2\n",
    "    N = 50\n",
    "    U = np.zeros(N)\n",
    "    V = np.zeros(N)\n",
    "    i = 0\n",
    "    for t in np.linspace(0, 2*np.pi, N):\n",
    "        U[i] = center[0] + np.cos(t) * radius\n",
    "        V[i] = center[1] + np.sin(t) * radius\n",
    "        i = i + 1\n",
    "    return generate_a_drawing2(figsize, U, V, noise)\n",
    "\n",
    "def generate_a_triangle2(noise=0.0, free_location=False):\n",
    "    figsize = 1.0\n",
    "    if free_location:\n",
    "        U = np.random.random(3)\n",
    "        V = np.random.random(3)\n",
    "    else:\n",
    "        size = (0.3 + 0.7 * np.random.random())*figsize/2\n",
    "        middle = figsize/2\n",
    "        U = (middle, middle+size, middle-size)\n",
    "        V = (middle+size, middle-size, middle-size)\n",
    "    return generate_a_drawing2(figsize, U, V, noise)\n",
    "\n",
    "\n",
    "def generate_dataset_classification2(nb_samples, noise=0.0, free_location=False):\n",
    "    # Getting im_size:\n",
    "    im_size = generate_a_rectangle().shape[0]\n",
    "    X = np.zeros([nb_samples,im_size])\n",
    "    Y = np.zeros([nb_samples,im_size])\n",
    "    print('Creating data:')\n",
    "    for i in range(nb_samples):\n",
    "        if i % 10 == 0:\n",
    "            print(i)\n",
    "        category = np.random.randint(3)\n",
    "        if category == 0:\n",
    "            [Y[i],X[i]] = generate_a_rectangle2(noise, free_location)\n",
    "        elif category == 1: \n",
    "            [Y[i],X[i]] = generate_a_disk2(noise, free_location)\n",
    "        else:\n",
    "            [Y[i],X[i]] = generate_a_triangle2(noise, free_location)\n",
    "        \n",
    "    X = (X + noise) / (255 + 2 * noise)\n",
    "    Y=Y/255\n",
    "    return [X,Y]"
   ]
  },
  {
   "cell_type": "code",
   "execution_count": 128,
   "metadata": {},
   "outputs": [
    {
     "name": "stdout",
     "output_type": "stream",
     "text": [
      "Creating data:\n",
      "0\n",
      "10\n",
      "20\n",
      "30\n",
      "40\n",
      "50\n",
      "60\n",
      "70\n",
      "80\n",
      "90\n",
      "100\n",
      "110\n",
      "120\n",
      "130\n",
      "140\n",
      "150\n",
      "160\n",
      "170\n",
      "180\n",
      "190\n",
      "200\n",
      "210\n",
      "220\n",
      "230\n",
      "240\n",
      "250\n",
      "260\n",
      "270\n",
      "280\n",
      "290\n"
     ]
    }
   ],
   "source": [
    "[X_train_4,Y_train_4]=generate_dataset_classification2(300, noise=8, free_location=True)"
   ]
  },
  {
   "cell_type": "markdown",
   "metadata": {},
   "source": [
    "In order to visualize this, we can first see the first real image generated (Y_train[0]), which is a triangle. "
   ]
  },
  {
   "cell_type": "code",
   "execution_count": 130,
   "metadata": {},
   "outputs": [
    {
     "data": {
      "text/plain": [
       "<matplotlib.image.AxesImage at 0x24fddd48630>"
      ]
     },
     "execution_count": 130,
     "metadata": {},
     "output_type": "execute_result"
    },
    {
     "data": {
      "image/png": "[encoded data removed]",
      "text/plain": [
       "<Figure size 432x288 with 1 Axes>"
      ]
     },
     "metadata": {
      "needs_background": "light"
     },
     "output_type": "display_data"
    }
   ],
   "source": [
    "plt.imshow(Y_train_4[5].reshape(72,72), cmap='gray')"
   ]
  },
  {
   "cell_type": "markdown",
   "metadata": {},
   "source": [
    "And now we can see the noisy version of the same image X_train[0]"
   ]
  },
  {
   "cell_type": "code",
   "execution_count": 131,
   "metadata": {},
   "outputs": [
    {
     "data": {
      "text/plain": [
       "<matplotlib.image.AxesImage at 0x24fdde04240>"
      ]
     },
     "execution_count": 131,
     "metadata": {},
     "output_type": "execute_result"
    },
    {
     "data": {
      "image/png": "[encoded data removed]",
      "text/plain": [
       "<Figure size 432x288 with 1 Axes>"
      ]
     },
     "metadata": {
      "needs_background": "light"
     },
     "output_type": "display_data"
    }
   ],
   "source": [
    "plt.imshow(X_train_4[5].reshape(72,72), cmap='gray')"
   ]
  },
  {
   "cell_type": "markdown",
   "metadata": {},
   "source": [
    "We will now use again the model we used previously Now the Dense have an output of 72* 72 since we have to guess every pixel of the image. In order to make our model work better we used a validation split of 0.1 (training on 270 samples and validating the results obtained on 30 samples). "
   ]
  },
  {
   "cell_type": "code",
   "execution_count": 138,
   "metadata": {},
   "outputs": [
    {
     "name": "stdout",
     "output_type": "stream",
     "text": [
      "Train on 270 samples, validate on 30 samples\n",
      "Epoch 1/10\n",
      "270/270 [==============================] - 8s 29ms/step - loss: 1.0417 - val_loss: 0.7612\n",
      "Epoch 2/10\n",
      "270/270 [==============================] - 6s 22ms/step - loss: 0.5541 - val_loss: 0.4048\n",
      "Epoch 3/10\n",
      "270/270 [==============================] - 6s 23ms/step - loss: 0.3373 - val_loss: 0.2680\n",
      "Epoch 4/10\n",
      "270/270 [==============================] - 6s 23ms/step - loss: 0.2396 - val_loss: 0.2168\n",
      "Epoch 5/10\n",
      "270/270 [==============================] - 6s 23ms/step - loss: 0.1894 - val_loss: 0.1745\n",
      "Epoch 6/10\n",
      "270/270 [==============================] - 6s 23ms/step - loss: 0.1597 - val_loss: 0.1617\n",
      "Epoch 7/10\n",
      "270/270 [==============================] - 7s 25ms/step - loss: 0.1440 - val_loss: 0.1459\n",
      "Epoch 8/10\n",
      "270/270 [==============================] - 6s 24ms/step - loss: 0.1331 - val_loss: 0.1418\n",
      "Epoch 9/10\n",
      "270/270 [==============================] - 6s 23ms/step - loss: 0.1249 - val_loss: 0.1366\n",
      "Epoch 10/10\n",
      "270/270 [==============================] - 6s 23ms/step - loss: 0.1188 - val_loss: 0.1331\n"
     ]
    },
    {
     "data": {
      "text/plain": [
       "<keras.callbacks.History at 0x24fa4ece278>"
      ]
     },
     "execution_count": 138,
     "metadata": {},
     "output_type": "execute_result"
    }
   ],
   "source": [
    "X_train_4 = X_train_4.reshape(X_train_4.shape[0], 72, 72, 1)\n",
    "model_4=Sequential()\n",
    "model_4.add(Conv2D(4, (3, 3), activation='relu',input_shape=(72, 72, 1)))\n",
    "model_4.add(MaxPooling2D(pool_size=(2,2)))\n",
    "model_4.add(Flatten())\n",
    "model_4.add(Dense(5184))\n",
    "model_4.compile(optimizer='adam',loss='mean_absolute_error')\n",
    "model_4.fit(X_train_4,Y_train_4,batch_size=32,epochs=10,validation_split=0.1)"
   ]
  },
  {
   "cell_type": "code",
   "execution_count": 146,
   "metadata": {},
   "outputs": [
    {
     "name": "stdout",
     "output_type": "stream",
     "text": [
      "Creating data:\n",
      "0\n"
     ]
    }
   ],
   "source": [
    "[X_test_4,Y_test_4]=generate_dataset_classification2(10, noise=2, free_location=True)"
   ]
  },
  {
   "cell_type": "code",
   "execution_count": 147,
   "metadata": {},
   "outputs": [],
   "source": [
    "X_test_4 = X_test_4.reshape(X_test_4.shape[0], 72, 72, 1)\n",
    "Y_test_4_predict=model_4.predict(X_test_4)"
   ]
  },
  {
   "cell_type": "code",
   "execution_count": 148,
   "metadata": {},
   "outputs": [
    {
     "data": {
      "text/plain": [
       "<matplotlib.image.AxesImage at 0x24fab8a7b38>"
      ]
     },
     "execution_count": 148,
     "metadata": {},
     "output_type": "execute_result"
    },
    {
     "data": {
      "image/png": "[encoded data removed]",
      "text/plain": [
       "<Figure size 432x288 with 1 Axes>"
      ]
     },
     "metadata": {
      "needs_background": "light"
     },
     "output_type": "display_data"
    }
   ],
   "source": [
    "plt.imshow(Y_test_4[1].reshape(72,72), cmap='gray')"
   ]
  },
  {
   "cell_type": "code",
   "execution_count": 149,
   "metadata": {},
   "outputs": [
    {
     "data": {
      "text/plain": [
       "<matplotlib.image.AxesImage at 0x24fab907208>"
      ]
     },
     "execution_count": 149,
     "metadata": {},
     "output_type": "execute_result"
    },
    {
     "data": {
      "image/png": "[encoded data removed]",
      "text/plain": [
       "<Figure size 432x288 with 1 Axes>"
      ]
     },
     "metadata": {
      "needs_background": "light"
     },
     "output_type": "display_data"
    }
   ],
   "source": [
    "plt.imshow(Y_test_4_predict[1].reshape(72,72), cmap='gray')"
   ]
  },
  {
   "cell_type": "markdown",
   "metadata": {},
   "source": [
    "We can see that our model can create an image that will be in the same area as the real one but the form is quite blurry. We tested the model with different noise value and it gets better with a lower value. "
   ]
  }
 ],
 "metadata": {
  "kernelspec": {
   "display_name": "Python 3",
   "language": "python",
   "name": "python3"
  },
  "language_info": {
   "codemirror_mode": {
    "name": "ipython",
    "version": 3
   },
   "file_extension": ".py",
   "mimetype": "text/x-python",
   "name": "python",
   "nbconvert_exporter": "python",
   "pygments_lexer": "ipython3",
   "version": "3.6.7"
  }
 },
 "nbformat": 4,
 "nbformat_minor": 2
}
